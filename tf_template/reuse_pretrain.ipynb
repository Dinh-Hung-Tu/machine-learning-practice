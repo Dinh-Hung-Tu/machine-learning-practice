{
 "cells": [
  {
   "cell_type": "code",
   "execution_count": 1,
   "metadata": {
    "collapsed": true
   },
   "outputs": [],
   "source": [
    "import tensorflow as tf\n",
    "import numpy as np\n",
    "from datetime import datetime\n",
    "\n",
    "def reset_graph(seed=42):\n",
    "    tf.reset_default_graph()\n",
    "    tf.set_random_seed(seed)\n",
    "    np.random.seed(seed)\n",
    "\n",
    "# Some training configs\n",
    "n_epochs = 10\n",
    "batch_size = 200"
   ]
  },
  {
   "cell_type": "markdown",
   "metadata": {},
   "source": [
    "# Data input"
   ]
  },
  {
   "cell_type": "code",
   "execution_count": 2,
   "metadata": {},
   "outputs": [
    {
     "name": "stdout",
     "output_type": "stream",
     "text": [
      "Extracting /tmp/data/train-images-idx3-ubyte.gz\n",
      "Extracting /tmp/data/train-labels-idx1-ubyte.gz\n",
      "Extracting /tmp/data/t10k-images-idx3-ubyte.gz\n",
      "Extracting /tmp/data/t10k-labels-idx1-ubyte.gz\n"
     ]
    }
   ],
   "source": [
    "from tensorflow.examples.tutorials.mnist import input_data\n",
    "mnist = input_data.read_data_sets(\"/tmp/data/\")"
   ]
  },
  {
   "cell_type": "markdown",
   "metadata": {},
   "source": [
    "# Get handles of the relevant ops\n",
    "* To check what are the available operations\n",
    "```\n",
    "for op in tf.get_default_graph().get_operations():\n",
    "    print(op.name)\n",
    "```\n",
    "For example\n",
    "```\n",
    "evaluate/Mean\n",
    "train/GradientDescent\n",
    "```"
   ]
  },
  {
   "cell_type": "code",
   "execution_count": 3,
   "metadata": {},
   "outputs": [],
   "source": [
    "saver = tf.train.import_meta_graph(\"./my_model_final.ckpt.meta\")\n",
    "#for op in tf.get_default_graph().get_operations():\n",
    "#    print(op.name)"
   ]
  },
  {
   "cell_type": "code",
   "execution_count": 4,
   "metadata": {},
   "outputs": [],
   "source": [
    "# Placeholder for input data \n",
    "X = tf.get_default_graph().get_tensor_by_name(\"X:0\")\n",
    "y = tf.get_default_graph().get_tensor_by_name(\"y:0\")\n",
    "\n",
    "# Relevant ops for training/evaluate\n",
    "accuracy = tf.get_default_graph().get_tensor_by_name(\"evaluate/accuracy:0\")\n",
    "training_op = tf.get_default_graph().get_operation_by_name(\"train/minimizeOptimizer\")"
   ]
  },
  {
   "cell_type": "markdown",
   "metadata": {},
   "source": [
    "# Continue the training on _exact_ pretrained model\n",
    "* As the header says, the training process continues **exact** model that was trained earlier. \n",
    "* Change the batch size, but continue to train on the same data set. \n",
    "* Same prediction output size."
   ]
  },
  {
   "cell_type": "code",
   "execution_count": 5,
   "metadata": {},
   "outputs": [
    {
     "name": "stdout",
     "output_type": "stream",
     "text": [
      "INFO:tensorflow:Restoring parameters from ./my_model_final.ckpt\n",
      "0 Test accuracy: 0.9732\n",
      "1 Test accuracy: 0.9733\n",
      "2 Test accuracy: 0.9734\n",
      "3 Test accuracy: 0.9739\n",
      "4 Test accuracy: 0.9732\n",
      "5 Test accuracy: 0.9734\n",
      "6 Test accuracy: 0.9729\n",
      "7 Test accuracy: 0.9736\n",
      "8 Test accuracy: 0.9736\n",
      "9 Test accuracy: 0.9733\n"
     ]
    }
   ],
   "source": [
    "with tf.Session() as sess:\n",
    "    # VERY IMPORTANT: Don't init() but instead restore from last model\n",
    "    saver.restore(sess, \"./my_model_final.ckpt\")\n",
    "\n",
    "    for epoch in range(n_epochs):\n",
    "        for iteration in range(mnist.train.num_examples // batch_size):\n",
    "            X_batch, y_batch = mnist.train.next_batch(batch_size)\n",
    "            sess.run(training_op, feed_dict={X: X_batch, y: y_batch})\n",
    "        accuracy_val = accuracy.eval(feed_dict={X: mnist.test.images,\n",
    "                                                y: mnist.test.labels})\n",
    "        print(epoch, \"Test accuracy:\", accuracy_val)\n",
    "\n",
    "    save_path = saver.save(sess, \"./my_new_model_final.ckpt\") "
   ]
  },
  {
   "cell_type": "markdown",
   "metadata": {},
   "source": [
    "# Next, modify the old network\n",
    "* Copy fewer number of layers than the full set: Only reuse `hidden_1, hidden_2` and **REPLACE** `hidden_3` by `hidden_3b` (eg. change the number of weights in that layers - effectively with new set of weights) \n",
    "    - Specify from which point in the last graph you would like to continue on. In this example, hidden_2 output, or hidden_3 output. \n",
    "    - Pay attention on `/Relu:0` as the output of Relu layer. \n",
    "\n",
    "* Only train particular layers (in the end) but freeze the lower layers"
   ]
  },
  {
   "cell_type": "code",
   "execution_count": 6,
   "metadata": {
    "collapsed": true
   },
   "outputs": [],
   "source": [
    "n_hidden4 = 15  # new layer\n",
    "n_outputs = 10  # new layer\n",
    "learning_rate = 0.001\n",
    "n_epochs = 100"
   ]
  },
  {
   "cell_type": "code",
   "execution_count": 7,
   "metadata": {},
   "outputs": [],
   "source": [
    "reset_graph()\n",
    "saver = tf.train.import_meta_graph(\"./my_model_final.ckpt.meta\")\n",
    "\n",
    "# Placeholder for input data \n",
    "X = tf.get_default_graph().get_tensor_by_name(\"X:0\")\n",
    "y = tf.get_default_graph().get_tensor_by_name(\"y:0\")\n",
    "\n",
    "# Relevant ops for training/evaluate\n",
    "accuracy = tf.get_default_graph().get_tensor_by_name(\"evaluate/accuracy:0\")\n",
    "training_op = tf.get_default_graph().get_operation_by_name(\"train/minimizeOptimizer\")"
   ]
  },
  {
   "cell_type": "code",
   "execution_count": 8,
   "metadata": {},
   "outputs": [],
   "source": [
    "# Add a new hidden layer on top\n",
    "output_hidden_3 = tf.get_default_graph().get_tensor_by_name(\"dnn/hidden_3/Relu:0\")\n",
    "new_hidden4 = tf.layers.dense(output_hidden_3, n_hidden4, activation=tf.nn.relu, name=\"new_hidden4\")\n",
    "new_logits = tf.layers.dense(new_hidden4, n_outputs, name=\"new_outputs\")\n",
    "\n",
    "with tf.name_scope(\"new_loss\"):\n",
    "    xentropy = tf.nn.sparse_softmax_cross_entropy_with_logits(labels=y, logits=new_logits)\n",
    "    loss = tf.reduce_mean(xentropy, name=\"loss\")\n",
    "\n",
    "with tf.name_scope(\"new_eval\"):\n",
    "    correct = tf.nn.in_top_k(new_logits, y, 1)\n",
    "    accuracy = tf.reduce_mean(tf.cast(correct, tf.float32), name=\"accuracy\")\n",
    "\n",
    "with tf.name_scope(\"new_train\"):\n",
    "    train_variables = tf.get_collection(tf.GraphKeys.TRAINABLE_VARIABLES, scope=\"hidden[234]|new_outputs\")\n",
    "    optimizer = tf.train.GradientDescentOptimizer(learning_rate)\n",
    "    training_op = optimizer.minimize(loss, var_list=train_variables)"
   ]
  },
  {
   "cell_type": "code",
   "execution_count": 9,
   "metadata": {},
   "outputs": [],
   "source": [
    "init = tf.global_variables_initializer()\n",
    "new_saver = tf.train.Saver()"
   ]
  },
  {
   "cell_type": "code",
   "execution_count": 10,
   "metadata": {},
   "outputs": [],
   "source": [
    "now = datetime.now().strftime(\"%Y-%m-%d_%H-%M-%S\")\n",
    "root_logdir = \"tf_logs\"\n",
    "logdir = \"{}/run-{}/\".format(root_logdir, now)\n",
    "loss_summary = tf.summary.scalar('loss', loss)\n",
    "file_writer = tf.summary.FileWriter(logdir, tf.get_default_graph())"
   ]
  },
  {
   "cell_type": "code",
   "execution_count": 11,
   "metadata": {},
   "outputs": [
    {
     "name": "stdout",
     "output_type": "stream",
     "text": [
      "INFO:tensorflow:Restoring parameters from ./my_model_final.ckpt\n",
      "0 Test accuracy: 0.1845\n",
      "10 Test accuracy: 0.841\n",
      "20 Test accuracy: 0.8851\n",
      "30 Test accuracy: 0.8976\n",
      "40 Test accuracy: 0.9061\n",
      "50 Test accuracy: 0.9103\n",
      "60 Test accuracy: 0.9129\n",
      "70 Test accuracy: 0.9146\n",
      "80 Test accuracy: 0.9171\n",
      "90 Test accuracy: 0.9183\n"
     ]
    }
   ],
   "source": [
    "with tf.Session() as sess:\n",
    "    init.run()\n",
    "    saver.restore(sess, \"./my_model_final.ckpt\")\n",
    "\n",
    "    for epoch in range(n_epochs):\n",
    "        for iteration in range(mnist.train.num_examples // batch_size):\n",
    "            X_batch, y_batch = mnist.train.next_batch(batch_size)\n",
    "            sess.run(training_op, feed_dict={X: X_batch, y: y_batch})\n",
    "        accuracy_val = accuracy.eval(feed_dict={X: mnist.test.images,\n",
    "                                                y: mnist.test.labels})\n",
    "        if epoch%10==0: \n",
    "            print(epoch, \"Test accuracy:\", accuracy_val)\n",
    "            summary_str = loss_summary.eval(feed_dict={X: X_batch, y: y_batch})  # Record training loss\n",
    "            step = epoch * batch_size + iteration\n",
    "            file_writer.add_summary(summary_str, step)\n",
    "\n",
    "    save_path = new_saver.save(sess, \"./my_new_model_final.ckpt\")\n",
    "file_writer.close()"
   ]
  },
  {
   "cell_type": "markdown",
   "metadata": {},
   "source": [
    "### Check if the freezing was actually frozen"
   ]
  },
  {
   "cell_type": "code",
   "execution_count": 12,
   "metadata": {},
   "outputs": [
    {
     "data": {
      "text/plain": [
       "[<tf.Variable 'dnn/hidden_1/kernel:0' shape=(784, 100) dtype=float32_ref>,\n",
       " <tf.Variable 'dnn/hidden_1/bias:0' shape=(100,) dtype=float32_ref>,\n",
       " <tf.Variable 'dnn/hidden_2/kernel:0' shape=(100, 50) dtype=float32_ref>,\n",
       " <tf.Variable 'dnn/hidden_2/bias:0' shape=(50,) dtype=float32_ref>,\n",
       " <tf.Variable 'dnn/hidden_3/kernel:0' shape=(50, 30) dtype=float32_ref>,\n",
       " <tf.Variable 'dnn/hidden_3/bias:0' shape=(30,) dtype=float32_ref>,\n",
       " <tf.Variable 'dnn/outputs/kernel:0' shape=(30, 10) dtype=float32_ref>,\n",
       " <tf.Variable 'dnn/outputs/bias:0' shape=(10,) dtype=float32_ref>,\n",
       " <tf.Variable 'new_hidden4/kernel:0' shape=(30, 15) dtype=float32_ref>,\n",
       " <tf.Variable 'new_hidden4/bias:0' shape=(15,) dtype=float32_ref>,\n",
       " <tf.Variable 'new_outputs/kernel:0' shape=(15, 10) dtype=float32_ref>,\n",
       " <tf.Variable 'new_outputs/bias:0' shape=(10,) dtype=float32_ref>]"
      ]
     },
     "execution_count": 12,
     "metadata": {},
     "output_type": "execute_result"
    }
   ],
   "source": [
    "tf.get_collection(tf.GraphKeys.TRAINABLE_VARIABLES)"
   ]
  },
  {
   "cell_type": "markdown",
   "metadata": {},
   "source": [
    "### Visualize the plot of the new checkpoint\n",
    "* Both `new_eval` and `new_loss` are on top of `logits` (represented by `new_outputs`)\n",
    "* `new_train` works on `new_loss`, `new_outputs` and `hidden_4`. \n",
    "![](img/node_io.png)"
   ]
  },
  {
   "cell_type": "markdown",
   "metadata": {},
   "source": [
    "![Some note](img/tf_transfer.png)"
   ]
  },
  {
   "cell_type": "code",
   "execution_count": null,
   "metadata": {
    "collapsed": true
   },
   "outputs": [],
   "source": []
  }
 ],
 "metadata": {
  "kernelspec": {
   "display_name": "Python 3",
   "language": "python",
   "name": "python3"
  },
  "language_info": {
   "codemirror_mode": {
    "name": "ipython",
    "version": 3
   },
   "file_extension": ".py",
   "mimetype": "text/x-python",
   "name": "python",
   "nbconvert_exporter": "python",
   "pygments_lexer": "ipython3",
   "version": "3.6.3"
  }
 },
 "nbformat": 4,
 "nbformat_minor": 2
}
