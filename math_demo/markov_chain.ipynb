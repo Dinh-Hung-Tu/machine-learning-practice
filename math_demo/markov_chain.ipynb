{
 "cells": [
  {
   "cell_type": "markdown",
   "metadata": {},
   "source": [
    "# Experiment with Markov Chains"
   ]
  },
  {
   "cell_type": "markdown",
   "metadata": {},
   "source": [
    "## Set up functions "
   ]
  },
  {
   "cell_type": "code",
   "execution_count": 1,
   "metadata": {},
   "outputs": [],
   "source": [
    "import numpy as np\n",
    "from numpy.testing import assert_array_equal\n",
    "from numpy.linalg import matrix_power, eig\n",
    "import seaborn as sns\n",
    "import matplotlib.pyplot as plt\n",
    "import pandas as pd\n",
    "\n",
    "# Some utils to verify the correctness of the array and matrix\n",
    "def assert_initial_state(init_state):\n",
    "    assert(isinstance(init_state, np.ndarray)), \"`init_state` should be in numpy.ndarray type\"\n",
    "    assert(np.sum(init_state) == 1), \"Sum of the vector `init_state` should be 1 but {} here.\".format(np.sum(init_state))\n",
    "\n",
    "def assert_transition_matrix(transition_matrix):\n",
    "    assert(isinstance(transition_matrix, np.ndarray)), \"`transition_matrix` should be in numpy.ndarray type\"\n",
    "    assert(len(transition_matrix.shape) == 2), \"`transition_matrix` is only 2-D for this experiment\"\n",
    "    assert(transition_matrix.shape[0] == transition_matrix.shape[1]), \"`transition_matrix` should be a squared matrix\"\n",
    "    assert_array_equal(x=np.sum(transition_matrix, 1), \n",
    "                       y=np.ones(transition_matrix.shape[0]),\n",
    "                       err_msg=\"Rows in `transition_matrix` should sum up to 1\",\n",
    "                       verbose=True)\n",
    "\n",
    "def get_state(init, transition, timestep):\n",
    "    assert_initial_state(init)\n",
    "    assert_transition_matrix(transition)\n",
    "    assert(isinstance(timestep, int)), \"Timestep must be an integer\"\n",
    "    return np.matmul(init, matrix_power(transition, timestep))"
   ]
  },
  {
   "cell_type": "markdown",
   "metadata": {},
   "source": [
    "## Set initial states and check the evolution of the state probabilities"
   ]
  },
  {
   "cell_type": "code",
   "execution_count": 2,
   "metadata": {},
   "outputs": [
    {
     "name": "stdout",
     "output_type": "stream",
     "text": [
      "transition_matrix\n",
      " [[ 0.8  0.2]\n",
      " [ 0.6  0.4]]\n"
     ]
    },
    {
     "data": {
      "text/html": [
       "<div>\n",
       "<style>\n",
       "    .dataframe thead tr:only-child th {\n",
       "        text-align: right;\n",
       "    }\n",
       "\n",
       "    .dataframe thead th {\n",
       "        text-align: left;\n",
       "    }\n",
       "\n",
       "    .dataframe tbody tr th {\n",
       "        vertical-align: top;\n",
       "    }\n",
       "</style>\n",
       "<table border=\"1\" class=\"dataframe\">\n",
       "  <thead>\n",
       "    <tr style=\"text-align: right;\">\n",
       "      <th></th>\n",
       "      <th>state 0</th>\n",
       "      <th>state 1</th>\n",
       "    </tr>\n",
       "  </thead>\n",
       "  <tbody>\n",
       "    <tr>\n",
       "      <th>0</th>\n",
       "      <td>0.000000</td>\n",
       "      <td>1.000000</td>\n",
       "    </tr>\n",
       "    <tr>\n",
       "      <th>1</th>\n",
       "      <td>0.600000</td>\n",
       "      <td>0.400000</td>\n",
       "    </tr>\n",
       "    <tr>\n",
       "      <th>2</th>\n",
       "      <td>0.720000</td>\n",
       "      <td>0.280000</td>\n",
       "    </tr>\n",
       "    <tr>\n",
       "      <th>3</th>\n",
       "      <td>0.744000</td>\n",
       "      <td>0.256000</td>\n",
       "    </tr>\n",
       "    <tr>\n",
       "      <th>4</th>\n",
       "      <td>0.748800</td>\n",
       "      <td>0.251200</td>\n",
       "    </tr>\n",
       "    <tr>\n",
       "      <th>5</th>\n",
       "      <td>0.749760</td>\n",
       "      <td>0.250240</td>\n",
       "    </tr>\n",
       "    <tr>\n",
       "      <th>6</th>\n",
       "      <td>0.749952</td>\n",
       "      <td>0.250048</td>\n",
       "    </tr>\n",
       "    <tr>\n",
       "      <th>7</th>\n",
       "      <td>0.749990</td>\n",
       "      <td>0.250010</td>\n",
       "    </tr>\n",
       "    <tr>\n",
       "      <th>8</th>\n",
       "      <td>0.749998</td>\n",
       "      <td>0.250002</td>\n",
       "    </tr>\n",
       "    <tr>\n",
       "      <th>9</th>\n",
       "      <td>0.750000</td>\n",
       "      <td>0.250000</td>\n",
       "    </tr>\n",
       "  </tbody>\n",
       "</table>\n",
       "</div>"
      ],
      "text/plain": [
       "    state 0   state 1\n",
       "0  0.000000  1.000000\n",
       "1  0.600000  0.400000\n",
       "2  0.720000  0.280000\n",
       "3  0.744000  0.256000\n",
       "4  0.748800  0.251200\n",
       "5  0.749760  0.250240\n",
       "6  0.749952  0.250048\n",
       "7  0.749990  0.250010\n",
       "8  0.749998  0.250002\n",
       "9  0.750000  0.250000"
      ]
     },
     "execution_count": 2,
     "metadata": {},
     "output_type": "execute_result"
    }
   ],
   "source": [
    "init_state = np.array([0, 1])\n",
    "# Transition probability\n",
    "prob_01 = 0.2\n",
    "prob_10 = 0.6\n",
    "\n",
    "# Stationary probability\n",
    "prob_00 = 1 - prob_01\n",
    "prob_11 = 1 - prob_10\n",
    "transition_matrix = np.array([[prob_00, prob_01], \n",
    "                              [prob_10, prob_11]])\n",
    "print(\"transition_matrix\\n\", transition_matrix)\n",
    "\n",
    "states = []\n",
    "for timestep in range(10):\n",
    "    state = get_state(init_state, transition_matrix, timestep)\n",
    "    states.append(state)\n",
    "    \n",
    "states_df = pd.DataFrame(states, columns=[\"state 0\", \"state 1\"]) \n",
    "states_df"
   ]
  },
  {
   "cell_type": "markdown",
   "metadata": {},
   "source": [
    "## Verify the convergence solution"
   ]
  },
  {
   "cell_type": "code",
   "execution_count": 3,
   "metadata": {},
   "outputs": [
    {
     "data": {
      "text/plain": [
       "array([ 0.75,  0.25])"
      ]
     },
     "execution_count": 3,
     "metadata": {},
     "output_type": "execute_result"
    }
   ],
   "source": [
    "PT = np.transpose(transition_matrix)\n",
    "stationary = np.array([0.750000, 0.250000])\n",
    "np.matmul(PT, np.transpose(stationary))"
   ]
  },
  {
   "cell_type": "code",
   "execution_count": 4,
   "metadata": {},
   "outputs": [
    {
     "data": {
      "text/plain": [
       "array([ 0.75,  0.25])"
      ]
     },
     "execution_count": 4,
     "metadata": {},
     "output_type": "execute_result"
    }
   ],
   "source": [
    "first_eig_vector = eig(PT)[1][:,0]\n",
    "normalised_eig = first_eig_vector/sum(first_eig_vector)  # Normalise to sum = 1\n",
    "normalised_eig"
   ]
  }
 ],
 "metadata": {
  "kernelspec": {
   "display_name": "Python 3",
   "language": "python",
   "name": "python3"
  },
  "language_info": {
   "codemirror_mode": {
    "name": "ipython",
    "version": 3
   },
   "file_extension": ".py",
   "mimetype": "text/x-python",
   "name": "python",
   "nbconvert_exporter": "python",
   "pygments_lexer": "ipython3",
   "version": "3.6.3"
  }
 },
 "nbformat": 4,
 "nbformat_minor": 2
}
